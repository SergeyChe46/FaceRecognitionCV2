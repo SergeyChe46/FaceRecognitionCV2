{
 "cells": [
  {
   "cell_type": "code",
   "execution_count": 1,
   "metadata": {},
   "outputs": [],
   "source": [
    "from imutils.video import VideoStream\n",
    "import imutils\n",
    "import time\n",
    "import cv2\n",
    "import os"
   ]
  },
  {
   "cell_type": "code",
   "execution_count": 2,
   "metadata": {},
   "outputs": [],
   "source": [
    "detectorPaths = {\n",
    "\t\"face\": \"haarcascade_frontalface_default.xml\",\n",
    "\t\"eyes\": \"haarcascade_eye.xml\",\n",
    "\t\"smile\": \"haarcascade_smile.xml\",\n",
    "}"
   ]
  },
  {
   "cell_type": "code",
   "execution_count": 3,
   "metadata": {},
   "outputs": [],
   "source": [
    "detect = cv2.CascadeClassifier()\n",
    "detectors = {}"
   ]
  },
  {
   "cell_type": "code",
   "execution_count": 6,
   "metadata": {},
   "outputs": [
    {
     "data": {
      "text/plain": [
       "{'face': < cv2.CascadeClassifier 0x7f62b31733f0>,\n",
       " 'eyes': < cv2.CascadeClassifier 0x7f62c843bcf0>,\n",
       " 'smile': < cv2.CascadeClassifier 0x7f62b31b20b0>}"
      ]
     },
     "execution_count": 6,
     "metadata": {},
     "output_type": "execute_result"
    }
   ],
   "source": [
    "detectors"
   ]
  },
  {
   "cell_type": "code",
   "execution_count": 5,
   "metadata": {},
   "outputs": [],
   "source": [
    "for name, path in detectorPaths.items():\n",
    "    paths = os.path.sep.join([os.path.abspath(os.getcwd()), path])\n",
    "    detectors[name] = cv2.CascadeClassifier(paths)"
   ]
  },
  {
   "cell_type": "code",
   "execution_count": 11,
   "metadata": {},
   "outputs": [
    {
     "name": "stderr",
     "output_type": "stream",
     "text": [
      "[ WARN:0@105.025] global /io/opencv/modules/videoio/src/cap_v4l.cpp (902) open VIDEOIO(V4L2:/dev/video0): can't open camera by index\n"
     ]
    }
   ],
   "source": [
    "vs = VideoStream(src=0).start()\n",
    "time.sleep(2)"
   ]
  },
  {
   "cell_type": "code",
   "execution_count": 12,
   "metadata": {},
   "outputs": [
    {
     "ename": "error",
     "evalue": "OpenCV(4.6.0) /io/opencv/modules/imgproc/src/color.cpp:182: error: (-215:Assertion failed) !_src.empty() in function 'cvtColor'\n",
     "output_type": "error",
     "traceback": [
      "\u001b[0;31m---------------------------------------------------------------------------\u001b[0m",
      "\u001b[0;31merror\u001b[0m                                     Traceback (most recent call last)",
      "\u001b[1;32m/home/sergeyche46/Python/Data/HaarCascades/haar_cascades.ipynb Ячейка 7\u001b[0m in \u001b[0;36m<cell line: 2>\u001b[0;34m()\u001b[0m\n\u001b[1;32m      <a href='vscode-notebook-cell:/home/sergeyche46/Python/Data/HaarCascades/haar_cascades.ipynb#W5sZmlsZQ%3D%3D?line=1'>2</a>\u001b[0m     frame \u001b[39m=\u001b[39m vs\u001b[39m.\u001b[39mread()\n\u001b[1;32m      <a href='vscode-notebook-cell:/home/sergeyche46/Python/Data/HaarCascades/haar_cascades.ipynb#W5sZmlsZQ%3D%3D?line=3'>4</a>\u001b[0m     \u001b[39m# frame = imutils.resize(frame, width=500)\u001b[39;00m\n\u001b[0;32m----> <a href='vscode-notebook-cell:/home/sergeyche46/Python/Data/HaarCascades/haar_cascades.ipynb#W5sZmlsZQ%3D%3D?line=4'>5</a>\u001b[0m     gray \u001b[39m=\u001b[39m cv2\u001b[39m.\u001b[39;49mcvtColor(frame, cv2\u001b[39m.\u001b[39;49mCOLOR_BGR2GRAY)\n\u001b[1;32m      <a href='vscode-notebook-cell:/home/sergeyche46/Python/Data/HaarCascades/haar_cascades.ipynb#W5sZmlsZQ%3D%3D?line=5'>6</a>\u001b[0m     faceRects \u001b[39m=\u001b[39m detectorPaths[\u001b[39m'\u001b[39m\u001b[39mface\u001b[39m\u001b[39m'\u001b[39m]\u001b[39m.\u001b[39mdetectMultiScale(\n\u001b[1;32m      <a href='vscode-notebook-cell:/home/sergeyche46/Python/Data/HaarCascades/haar_cascades.ipynb#W5sZmlsZQ%3D%3D?line=6'>7</a>\u001b[0m         gray, scaleFactor\u001b[39m=\u001b[39m\u001b[39m1.05\u001b[39m, minNeighbors\u001b[39m=\u001b[39m\u001b[39m5\u001b[39m, minSize\u001b[39m=\u001b[39m(\u001b[39m30\u001b[39m, \u001b[39m30\u001b[39m),\n\u001b[1;32m      <a href='vscode-notebook-cell:/home/sergeyche46/Python/Data/HaarCascades/haar_cascades.ipynb#W5sZmlsZQ%3D%3D?line=7'>8</a>\u001b[0m \t\tflags\u001b[39m=\u001b[39mcv2\u001b[39m.\u001b[39mCASCADE_SCALE_IMAGE\n\u001b[1;32m      <a href='vscode-notebook-cell:/home/sergeyche46/Python/Data/HaarCascades/haar_cascades.ipynb#W5sZmlsZQ%3D%3D?line=8'>9</a>\u001b[0m     )\n\u001b[1;32m     <a href='vscode-notebook-cell:/home/sergeyche46/Python/Data/HaarCascades/haar_cascades.ipynb#W5sZmlsZQ%3D%3D?line=10'>11</a>\u001b[0m     \u001b[39mfor\u001b[39;00m (fX, fY, fW, fH) \u001b[39min\u001b[39;00m faceRects:\n",
      "\u001b[0;31merror\u001b[0m: OpenCV(4.6.0) /io/opencv/modules/imgproc/src/color.cpp:182: error: (-215:Assertion failed) !_src.empty() in function 'cvtColor'\n"
     ]
    }
   ],
   "source": [
    "while True:\n",
    "    frame = vs.read()\n",
    "    \n",
    "    # frame = imutils.resize(frame, width=500)\n",
    "    gray = cv2.cvtColor(frame, cv2.COLOR_BGR2GRAY)\n",
    "    faceRects = detectors['face'].detectMultiScale(\n",
    "        gray, scaleFactor=1.05, minNeighbors=5, minSize=(30, 30),\n",
    "\t\tflags=cv2.CASCADE_SCALE_IMAGE\n",
    "    )\n",
    "\n",
    "    for (fX, fY, fW, fH) in faceRects:\n",
    "        faceROI = gray[fX:fX + fH, fY:fY + fW]\n",
    "        eyeRects = detectors['eyes'].detectMultiScale(\n",
    "            faceROI, scaleFactor=1.1, minNeighbors=10,\n",
    "            minSize=(15, 15), flags=cv2.CASCADE_SCALE_IMAGE\n",
    "        )\n",
    "\n",
    "        smileRects = detectors['smile'].detectMultiScale(\n",
    "            faceROI, scaleFactor=1.1, minNeighbors=10,\n",
    "            minSize=(15, 15), flags=cv2.CASCADE_SCALE_IMAGE\n",
    "        )\n",
    "\n",
    "        for (eX, eY, eW, eH) in eyeRects:\n",
    "            ptA = (fX + eX, fY + eY)\n",
    "            ptB = (fX + eX + eW, fY + eY + eH)\n",
    "            cv2.rectangle(frame, ptA, ptB, (0, 0, 255), 2)\n",
    "        \n",
    "        for (sX, sY, sW, sH) in smileRects:\n",
    "            ptA = (sX + sX, sY + sY)\n",
    "            ptB = (sX + sX + sW, sY + sY + sH)\n",
    "            cv2.rectangle(frame, ptA, ptB, (255, 0, 0), 2)\n",
    "\n",
    "        cv2.rectangle(frame, (fX, fY), (fX+fW, fY+fH), (0, 255, 0), 2)\n",
    "    \n",
    "    cv2.imshow('Frame', frame)\n",
    "    key = cv2.waitKey(1) & 0xFF\n",
    "\n",
    "    if key == ord('q'):\n",
    "        break\n",
    "cv2.destroyAllWindows()\n",
    "vs.stop()"
   ]
  }
 ],
 "metadata": {
  "kernelspec": {
   "display_name": "Python 3.9.13 ('base')",
   "language": "python",
   "name": "python3"
  },
  "language_info": {
   "codemirror_mode": {
    "name": "ipython",
    "version": 3
   },
   "file_extension": ".py",
   "mimetype": "text/x-python",
   "name": "python",
   "nbconvert_exporter": "python",
   "pygments_lexer": "ipython3",
   "version": "3.9.13"
  },
  "orig_nbformat": 4,
  "vscode": {
   "interpreter": {
    "hash": "8057b0ec1787828d83a7cfbba1c7997ada6e6c05c6a5304e5bc85b40608fb018"
   }
  }
 },
 "nbformat": 4,
 "nbformat_minor": 2
}
