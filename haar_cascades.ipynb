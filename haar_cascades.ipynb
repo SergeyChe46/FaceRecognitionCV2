{
 "cells": [
  {
   "cell_type": "code",
   "execution_count": 1,
   "metadata": {},
   "outputs": [],
   "source": [
    "from imutils.video import VideoStream\n",
    "import imutils\n",
    "import time\n",
    "import cv2\n",
    "import os"
   ]
  },
  {
   "cell_type": "code",
   "execution_count": 2,
   "metadata": {},
   "outputs": [],
   "source": [
    "detectorPaths = {\n",
    "\t\"face\": \"haarcascade_frontalface_default.xml\",\n",
    "\t\"eyes\": \"haarcascade_eye.xml\",\n",
    "\t\"smile\": \"haarcascade_smile.xml\",\n",
    "}"
   ]
  },
  {
   "cell_type": "code",
   "execution_count": 11,
   "metadata": {},
   "outputs": [],
   "source": [
    "detect = cv2.CascadeClassifier()\n",
    "detectors = {}"
   ]
  },
  {
   "cell_type": "code",
   "execution_count": 50,
   "metadata": {},
   "outputs": [
    {
     "ename": "SystemError",
     "evalue": "<class 'cv2.CascadeClassifier'> returned a result with an error set",
     "output_type": "error",
     "traceback": [
      "\u001b[0;31m---------------------------------------------------------------------------\u001b[0m",
      "\u001b[0;31merror\u001b[0m                                     Traceback (most recent call last)",
      "\u001b[0;31merror\u001b[0m: OpenCV(4.6.0) /io/opencv/modules/core/src/persistence.cpp:692: error: (-5:Bad argument) Input file is invalid in function 'open'\n",
      "\nThe above exception was the direct cause of the following exception:\n",
      "\u001b[0;31mSystemError\u001b[0m                               Traceback (most recent call last)",
      "\u001b[1;32m/home/sergeyche46/Python/Data/HaarCascades/c.ipynb Ячейка 5\u001b[0m in \u001b[0;36m<cell line: 1>\u001b[0;34m()\u001b[0m\n\u001b[1;32m      <a href='vscode-notebook-cell:/home/sergeyche46/Python/Data/HaarCascades/c.ipynb#W4sZmlsZQ%3D%3D?line=0'>1</a>\u001b[0m \u001b[39mfor\u001b[39;00m name, path \u001b[39min\u001b[39;00m detectorPaths\u001b[39m.\u001b[39mitems():\n\u001b[1;32m      <a href='vscode-notebook-cell:/home/sergeyche46/Python/Data/HaarCascades/c.ipynb#W4sZmlsZQ%3D%3D?line=1'>2</a>\u001b[0m     paths \u001b[39m=\u001b[39m os\u001b[39m.\u001b[39mpath\u001b[39m.\u001b[39msep\u001b[39m.\u001b[39mjoin([os\u001b[39m.\u001b[39mpath\u001b[39m.\u001b[39mabspath(os\u001b[39m.\u001b[39mgetcwd()), path])\n\u001b[0;32m----> <a href='vscode-notebook-cell:/home/sergeyche46/Python/Data/HaarCascades/c.ipynb#W4sZmlsZQ%3D%3D?line=2'>3</a>\u001b[0m     detectors[name] \u001b[39m=\u001b[39m cv2\u001b[39m.\u001b[39;49mCascadeClassifier(paths)\n",
      "\u001b[0;31mSystemError\u001b[0m: <class 'cv2.CascadeClassifier'> returned a result with an error set"
     ]
    }
   ],
   "source": [
    "for name, path in detectorPaths.items():\n",
    "    paths = os.path.sep.join([os.path.abspath(os.getcwd()), path])\n",
    "    detectors[name] = cv2.CascadeClassifier(paths)"
   ]
  },
  {
   "cell_type": "code",
   "execution_count": 4,
   "metadata": {},
   "outputs": [
    {
     "ename": "AttributeError",
     "evalue": "'str' object has no attribute 'detectMultiScale'",
     "output_type": "error",
     "traceback": [
      "\u001b[0;31m---------------------------------------------------------------------------\u001b[0m",
      "\u001b[0;31mAttributeError\u001b[0m                            Traceback (most recent call last)",
      "\u001b[1;32m/home/sergeyche46/Python/Data/HaarCascades/c.ipynb Ячейка 4\u001b[0m in \u001b[0;36m<cell line: 4>\u001b[0;34m()\u001b[0m\n\u001b[1;32m      <a href='vscode-notebook-cell:/home/sergeyche46/Python/Data/HaarCascades/c.ipynb#W3sZmlsZQ%3D%3D?line=4'>5</a>\u001b[0m     frame \u001b[39m=\u001b[39m imutils\u001b[39m.\u001b[39mresize(frame, width\u001b[39m=\u001b[39m\u001b[39m500\u001b[39m)\n\u001b[1;32m      <a href='vscode-notebook-cell:/home/sergeyche46/Python/Data/HaarCascades/c.ipynb#W3sZmlsZQ%3D%3D?line=5'>6</a>\u001b[0m     gray \u001b[39m=\u001b[39m cv2\u001b[39m.\u001b[39mcvtColor(frame, cv2\u001b[39m.\u001b[39mCOLOR_BGR2GRAY)\n\u001b[0;32m----> <a href='vscode-notebook-cell:/home/sergeyche46/Python/Data/HaarCascades/c.ipynb#W3sZmlsZQ%3D%3D?line=6'>7</a>\u001b[0m     faceRects \u001b[39m=\u001b[39m detectorPaths[\u001b[39m'\u001b[39;49m\u001b[39mface\u001b[39;49m\u001b[39m'\u001b[39;49m]\u001b[39m.\u001b[39;49mdetectMultiScale(\n\u001b[1;32m      <a href='vscode-notebook-cell:/home/sergeyche46/Python/Data/HaarCascades/c.ipynb#W3sZmlsZQ%3D%3D?line=7'>8</a>\u001b[0m         gray, scaleFactor\u001b[39m=\u001b[39m\u001b[39m1.05\u001b[39m, minNeighbors\u001b[39m=\u001b[39m\u001b[39m5\u001b[39m, minSize\u001b[39m=\u001b[39m(\u001b[39m30\u001b[39m, \u001b[39m30\u001b[39m),\n\u001b[1;32m      <a href='vscode-notebook-cell:/home/sergeyche46/Python/Data/HaarCascades/c.ipynb#W3sZmlsZQ%3D%3D?line=8'>9</a>\u001b[0m \t\tflags\u001b[39m=\u001b[39mcv2\u001b[39m.\u001b[39mCASCADE_SCALE_IMAGE\n\u001b[1;32m     <a href='vscode-notebook-cell:/home/sergeyche46/Python/Data/HaarCascades/c.ipynb#W3sZmlsZQ%3D%3D?line=9'>10</a>\u001b[0m     )\n",
      "\u001b[0;31mAttributeError\u001b[0m: 'str' object has no attribute 'detectMultiScale'"
     ]
    }
   ],
   "source": [
    "vs = VideoStream(src=0).start()\n",
    "time.sleep(2)\n",
    "while True:\n",
    "    frame = vs.read()\n",
    "    frame = imutils.resize(frame, width=500)\n",
    "    gray = cv2.cvtColor(frame, cv2.COLOR_BGR2GRAY)\n",
    "    faceRects = detectorPaths['face'].detectMultiScale(\n",
    "        gray, scaleFactor=1.05, minNeighbors=5, minSize=(30, 30),\n",
    "\t\tflags=cv2.CASCADE_SCALE_IMAGE\n",
    "    )"
   ]
  }
 ],
 "metadata": {
  "kernelspec": {
   "display_name": "Python 3.9.13 ('base')",
   "language": "python",
   "name": "python3"
  },
  "language_info": {
   "codemirror_mode": {
    "name": "ipython",
    "version": 3
   },
   "file_extension": ".py",
   "mimetype": "text/x-python",
   "name": "python",
   "nbconvert_exporter": "python",
   "pygments_lexer": "ipython3",
   "version": "3.9.13"
  },
  "orig_nbformat": 4,
  "vscode": {
   "interpreter": {
    "hash": "8057b0ec1787828d83a7cfbba1c7997ada6e6c05c6a5304e5bc85b40608fb018"
   }
  }
 },
 "nbformat": 4,
 "nbformat_minor": 2
}
